{
 "cells": [
  {
   "cell_type": "markdown",
   "metadata": {},
   "source": [
    "# Introduction to Computational Science\n",
    "# Assignment 2\n",
    "\n",
    "## Gillespie Algorithm\n",
    "\n",
    "1. Generate two random numbers between 0 and 1\n",
    "2. Estimate time until next event based on cumulative rates of all possible events.\n",
    "3. Convert event rates into probabilities by randomly selecting one of these events.\n",
    "4. Repeat this process to iterate the model through time.\n",
    "\n",
    "\n",
    "### Events:\n",
    "1. Birth X→X+1\n",
    "2. Transmission Y→Y+ 1 and X→X−1\n",
    "3. Recovery Y→Y−1 and Z→Z+1\n",
    "4. Death, three independent events, X→X − 1, Y → Y− 1, Z→Z−1"
   ]
  },
  {
   "cell_type": "code",
   "execution_count": 3,
   "metadata": {},
   "outputs": [],
   "source": [
    "import numpy as np\n",
    "import matplotlib.pyplot as plt"
   ]
  },
  {
   "cell_type": "code",
   "execution_count": 9,
   "metadata": {},
   "outputs": [
    {
     "name": "stdout",
     "output_type": "stream",
     "text": [
      "1.0966666666666667 Rtotal\n"
     ]
    }
   ],
   "source": [
    "# Initialize variables\n",
    "beta = 1\n",
    "gamma = 1/15\n",
    "mu = 0.0002\n",
    "N = 100\n",
    "X = 99\n",
    "Y = 1\n",
    "Z = 0\n",
    "T = 0\n",
    "\n",
    "# Label events    \n",
    "E1, E2, E3, E4, E5, E6 = [1,2,3,4,5,6]\n",
    "\n",
    "# Get random numbers\n",
    "for i in range(6):\n",
    "    r = np.random.rand()\n",
    "\n",
    "# Determine at which rate an event occurs\n",
    "rate_E1 = mu * N\n",
    "rate_E2 = beta * X * Y / N\n",
    "rate_E3 = gamma * Y\n",
    "rate_E4 = mu * X\n",
    "rate_E5 = mu * Y\n",
    "rate_E6 = mu * Z\n",
    "\n",
    "events = [rate_E1, rate_E2, rate_E3, rate_E4, rate_E5, rate_E6]\n",
    "Rtotal = sum(events)\n",
    "print(Rtotal, \"Rtotal\")\n",
    "\n",
    "\n",
    "# Time until next event\n",
    "# gillespie(events, Rtotal)\n",
    "\n",
    "\n",
    "def gillespie(events, Rtotal):\n",
    "    \"\"\"\n",
    "    Choose the next time and event\n",
    "    \"\"\"\n",
    "  \n",
    "    # Generate two random numbers between 0 and 1.\n",
    "    random_time = np.random.rand()\n",
    "    random_event = np.random.rand()\n",
    "\n",
    "    # Determine the rate at which an event occurs.\n",
    "    # First, get reaction time.\n",
    "    T = -1 * np.log(random_time) / Rtotal\n",
    "    \n",
    "    P = random_event * Rtotal\n",
    "    \n",
    "    # Event p occurs if \n",
    "    if rate_E1 < P < Rtotal:\n",
    "        X = X + 1\n",
    "        \n",
    "    return \n",
    "    "
   ]
  },
  {
   "cell_type": "code",
   "execution_count": null,
   "metadata": {},
   "outputs": [],
   "source": []
  },
  {
   "cell_type": "code",
   "execution_count": null,
   "metadata": {},
   "outputs": [],
   "source": []
  }
 ],
 "metadata": {
  "kernelspec": {
   "display_name": "Python 3",
   "language": "python",
   "name": "python3"
  },
  "language_info": {
   "codemirror_mode": {
    "name": "ipython",
    "version": 3
   },
   "file_extension": ".py",
   "mimetype": "text/x-python",
   "name": "python",
   "nbconvert_exporter": "python",
   "pygments_lexer": "ipython3",
   "version": "3.7.1"
  }
 },
 "nbformat": 4,
 "nbformat_minor": 2
}
