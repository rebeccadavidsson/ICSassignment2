{
 "cells": [
  {
   "cell_type": "markdown",
   "metadata": {},
   "source": [
    "# Introduction to Computational Science\n",
    "# Assignment 2\n",
    "\n",
    "## Gillespie Algorithm\n",
    "\n",
    "1. Generate two random numbers between 0 and 1\n",
    "2. Estimate time until next event based on cumulative rates of all possible events.\n",
    "3. Convert event rates into probabilities by randomly selecting one of these events.\n",
    "4. Repeat this process to iterate the model through time."
   ]
  },
  {
   "cell_type": "code",
   "execution_count": 2,
   "metadata": {},
   "outputs": [],
   "source": [
    "import numpy as np\n",
    "import matplotlib.pyplot as plt"
   ]
  },
  {
   "cell_type": "code",
   "execution_count": 6,
   "metadata": {},
   "outputs": [
    {
     "data": {
      "image/png": "[encoded data removed]",
      "text/plain": [
       "<Figure size 432x288 with 1 Axes>"
      ]
     },
     "metadata": {
      "needs_background": "light"
     },
     "output_type": "display_data"
    }
   ],
   "source": [
    "# Initialize variables\n",
    "c1 = 0.1\n",
    "event1 = 4\n",
    "event2 = 9\n",
    "reactiontime = 0\n",
    "reactionnumber = 0\n",
    "\n",
    "# a1 = X1*X2*c1\n",
    "a0 = event1*event2*c1\n",
    "a = np.array([event1*event2*c1])\n",
    "\n",
    "# Calculate the rate at which any event occurs.\n",
    "Rtotal = sum(a)\n",
    "\n",
    "def get_reactiontime(a0, a, reactiontime, reactionnumber, event1, event2):\n",
    "    \"\"\"\n",
    "    Choose the next time and event\n",
    "    \"\"\"\n",
    "  \n",
    "    # Generate two random numbers between 0 and 1.\n",
    "    random1 = np.random.rand()\n",
    "    random2 = np.random.rand()\n",
    "\n",
    "    # Determine the rate at which an event occurs.\n",
    "    # First, get reaction time.\n",
    "\n",
    "    # Find the increment in T\n",
    "    T = (1 / Rtotal) * np.log(1 / random1)\n",
    "\n",
    "    # Get next reaction time\n",
    "    next_event = 0\n",
    "    N = random2 * a0 - a[next_event]\n",
    "    \n",
    "    while N > 0:\n",
    "        next_event += 1\n",
    "        N = N - a[next_event]\n",
    "\n",
    "    # Calculate next reaction time\n",
    "    reactiontime = reactiontime + T\n",
    "\n",
    "    reactionnumber += 1\n",
    "\n",
    "    # Update events\n",
    "    event1 += 1\n",
    "    event2 -= 1\n",
    "    \n",
    "    return reactiontime, next_event\n",
    "\n",
    "\n",
    "\n",
    "def test(a):\n",
    "    a0 = sum(a)\n",
    "    \n",
    "    r = np.zeros((1000,1))\n",
    "\n",
    "    for i in range(1000):\n",
    "        res = get_reactiontime(a0,a, reactiontime, reactionnumber, event1, event2)\n",
    "        r[i] = res[1]\n",
    "    \n",
    "    # histogram the reactions chosen\n",
    "    plt.hist(r, np.array([-0.5,0.5,1.5]))\n",
    "    \n",
    "\n",
    "a = np.array([2000*0.01, 10*1])\n",
    "test(a)\n",
    "plt.show()\n"
   ]
  },
  {
   "cell_type": "code",
   "execution_count": 7,
   "metadata": {},
   "outputs": [
    {
     "ename": "ModuleNotFoundError",
     "evalue": "No module named 'flockworks'",
     "output_type": "error",
     "traceback": [
      "\u001b[0;31m---------------------------------------------------------------------------\u001b[0m",
      "\u001b[0;31mModuleNotFoundError\u001b[0m                       Traceback (most recent call last)",
      "\u001b[0;32m<ipython-input-7-86df1dd13a04>\u001b[0m in \u001b[0;36m<module>\u001b[0;34m\u001b[0m\n\u001b[0;32m----> 1\u001b[0;31m \u001b[0;32mfrom\u001b[0m \u001b[0mflockworks\u001b[0m \u001b[0;32mimport\u001b[0m \u001b[0mflockwork\u001b[0m\u001b[0;34m\u001b[0m\u001b[0;34m\u001b[0m\u001b[0m\n\u001b[0m\u001b[1;32m      2\u001b[0m \u001b[0;32mimport\u001b[0m \u001b[0mGillEpi\u001b[0m\u001b[0;34m\u001b[0m\u001b[0;34m\u001b[0m\u001b[0m\n\u001b[1;32m      3\u001b[0m \u001b[0;32mimport\u001b[0m \u001b[0mpylab\u001b[0m \u001b[0;32mas\u001b[0m \u001b[0mpl\u001b[0m\u001b[0;34m\u001b[0m\u001b[0;34m\u001b[0m\u001b[0m\n\u001b[1;32m      4\u001b[0m \u001b[0;34m\u001b[0m\u001b[0m\n\u001b[1;32m      5\u001b[0m \u001b[0;31m# initialize time-varying network\u001b[0m\u001b[0;34m\u001b[0m\u001b[0;34m\u001b[0m\u001b[0;34m\u001b[0m\u001b[0m\n",
      "\u001b[0;31mModuleNotFoundError\u001b[0m: No module named 'flockworks'"
     ]
    }
   ],
   "source": []
  },
  {
   "cell_type": "code",
   "execution_count": null,
   "metadata": {},
   "outputs": [],
   "source": []
  }
 ],
 "metadata": {
  "kernelspec": {
   "display_name": "Python 3",
   "language": "python",
   "name": "python3"
  },
  "language_info": {
   "codemirror_mode": {
    "name": "ipython",
    "version": 3
   },
   "file_extension": ".py",
   "mimetype": "text/x-python",
   "name": "python",
   "nbconvert_exporter": "python",
   "pygments_lexer": "ipython3",
   "version": "3.7.1"
  }
 },
 "nbformat": 4,
 "nbformat_minor": 2
}
